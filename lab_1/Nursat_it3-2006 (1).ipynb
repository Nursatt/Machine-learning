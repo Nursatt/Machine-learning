{
 "cells": [
  {
   "cell_type": "code",
   "execution_count": 1,
   "id": "5a23adf7",
   "metadata": {},
   "outputs": [
    {
     "name": "stdout",
     "output_type": "stream",
     "text": [
      "The dimension of array zeros is 1\n",
      "The shape of array zeros is (10,)\n",
      "The size of array zeros is 10\n",
      "Data type of the items in zeros array is  int32\n",
      "The itemsize of array is 4\n"
     ]
    }
   ],
   "source": [
    "import numpy as np\n",
    "zeros = np.zeros(10, dtype=int)\n",
    "print(\"The dimension of array zeros is\",zeros.ndim)\n",
    "print(\"The shape of array zeros is\",zeros.shape)\n",
    "print(\"The size of array zeros is\",zeros.size)\n",
    "print(\"Data type of the items in zeros array is \",zeros.dtype)\n",
    "print(\"The itemsize of array is\",zeros.itemsize)"
   ]
  },
  {
   "cell_type": "code",
   "execution_count": 2,
   "id": "4da0989d",
   "metadata": {},
   "outputs": [
    {
     "name": "stdout",
     "output_type": "stream",
     "text": [
      "The dimension of array vowels is 1\n",
      "The shape of array vowels is (5,)\n",
      "The size of array vowels is 5\n",
      "Data type of the items in vowels array is  <U1\n",
      "The itemsize of array is 4\n"
     ]
    }
   ],
   "source": [
    "vowels = np.array([\"a\",\"e\",\"i\",\"o\",\"u\"])\n",
    "print(\"The dimension of array vowels is\",vowels.ndim)\n",
    "print(\"The shape of array vowels is\",vowels.shape)\n",
    "print(\"The size of array vowels is\",vowels.size)\n",
    "print(\"Data type of the items in vowels array is \",vowels.dtype)\n",
    "print(\"The itemsize of array is\",vowels.itemsize)"
   ]
  },
  {
   "cell_type": "code",
   "execution_count": 3,
   "id": "b1f7e1b8",
   "metadata": {},
   "outputs": [
    {
     "name": "stdout",
     "output_type": "stream",
     "text": [
      "The dimension of array ones is 2\n",
      "The shape of array vowels is (2, 5)\n",
      "The size of array vowels is 10\n",
      "Data type of the items in ones array is  int32\n",
      "The itemsize of array is 4\n"
     ]
    }
   ],
   "source": [
    "ones = np.ones((2,5),dtype=int)\n",
    "print(\"The dimension of array ones is\",ones.ndim)\n",
    "print(\"The shape of array vowels is\",ones.shape)\n",
    "print(\"The size of array vowels is\",ones.size)\n",
    "print(\"Data type of the items in ones array is \",ones.dtype)\n",
    "print(\"The itemsize of array is\",ones.itemsize)"
   ]
  },
  {
   "cell_type": "code",
   "execution_count": 4,
   "id": "64b71acf",
   "metadata": {},
   "outputs": [
    {
     "name": "stdout",
     "output_type": "stream",
     "text": [
      "The dimension of array myarray1 is 2\n",
      "The shape of array myarray1 is (3, 3)\n",
      "The size of array myarray1 is 9\n",
      "Data type of the items in myarray1 array is  float64\n",
      "The itemsize of array is 8\n"
     ]
    }
   ],
   "source": [
    "myarray1 = np.array([[2.7,-2,-19],[0, 3.4, 99.9],[10.6, 0, 13]])\n",
    "print(\"The dimension of array myarray1 is\",myarray1.ndim)\n",
    "print(\"The shape of array myarray1 is\",myarray1.shape)\n",
    "print(\"The size of array myarray1 is\",myarray1.size)\n",
    "print(\"Data type of the items in myarray1 array is \",myarray1.dtype)\n",
    "print(\"The itemsize of array is\",myarray1.itemsize)"
   ]
  },
  {
   "cell_type": "code",
   "execution_count": 5,
   "id": "d51adc3f",
   "metadata": {},
   "outputs": [
    {
     "name": "stdout",
     "output_type": "stream",
     "text": [
      "The dimension of array myarray2 is 2\n",
      "The shape of array myarray2 is (3, 5)\n",
      "The size of array myarray2 is 15\n",
      "Data type of the items in zeros array is  float64\n",
      "The itemsize of array is 8\n"
     ]
    }
   ],
   "source": [
    "myarray2 = np.arange(start=4, stop=64, step=4, dtype=float) \n",
    "myarray2 = myarray2.reshape((3,5))\n",
    "print(\"The dimension of array myarray2 is\",myarray2.ndim)\n",
    "print(\"The shape of array myarray2 is\",myarray2.shape)\n",
    "print(\"The size of array myarray2 is\",myarray2.size)\n",
    "print(\"Data type of the items in zeros array is \",myarray2.dtype)\n",
    "print(\"The itemsize of array is\",myarray2.itemsize)"
   ]
  },
  {
   "cell_type": "code",
   "execution_count": 6,
   "id": "6f9ea2fc",
   "metadata": {},
   "outputs": [
    {
     "name": "stdout",
     "output_type": "stream",
     "text": [
      "[1 1 1 1 1 1 1 1 1 1]\n"
     ]
    }
   ],
   "source": [
    "import numpy as np\n",
    "ones = np.ones((2,5),dtype=int)\n",
    "b=np.reshape(ones,(10,))\n",
    "print(b)"
   ]
  },
  {
   "cell_type": "code",
   "execution_count": 8,
   "id": "cc7f38bc",
   "metadata": {},
   "outputs": [
    {
     "name": "stdout",
     "output_type": "stream",
     "text": [
      " vowels array elements \n",
      "['a' 'e' 'i' 'o' 'u']\n",
      "2nd and 3rd element of the array vowels\n",
      "['e' 'i']\n"
     ]
    }
   ],
   "source": [
    "import numpy as np\n",
    "vowels = np.array([\"a\",\"e\",\"i\",\"o\",\"u\"])\n",
    "print(\" vowels array elements \")\n",
    "print(vowels)\n",
    "print(\"2nd and 3rd element of the array vowels\")\n",
    "print(vowels[1:3])  # display the 2nd and 3rd element of array"
   ]
  },
  {
   "cell_type": "code",
   "execution_count": 9,
   "id": "69cf3ebd",
   "metadata": {},
   "outputs": [
    {
     "name": "stdout",
     "output_type": "stream",
     "text": [
      " myarray1 elements \n",
      "[[  2.7  -2.  -19. ]\n",
      " [  0.    3.4  99.9]\n",
      " [ 10.6   0.   13. ]]\n",
      "Display all elements in the 2nd and 3rd row of the array myarray1\n",
      "[ 0.   3.4 99.9]\n",
      "[10.6  0.  13. ]\n"
     ]
    }
   ],
   "source": [
    "import numpy as np\n",
    "x= np.array([[2.7,-2,-19], [0,3.4,99.9],[10.6,0, 13]])\n",
    "print(\" myarray1 elements \")\n",
    "print(x)\n",
    "print(\"Display all elements in the 2nd and 3rd row of the array myarray1\")\n",
    "print(x[1])    \n",
    "print(x[2])   "
   ]
  },
  {
   "cell_type": "code",
   "execution_count": 10,
   "id": "0b6af1ac",
   "metadata": {},
   "outputs": [
    {
     "name": "stdout",
     "output_type": "stream",
     "text": [
      " myarray1 elements \n",
      "[[  2.7  -2.  -19. ]\n",
      " [  0.    3.4  99.9]\n",
      " [ 10.6   0.   13. ]]\n",
      "Display all elements in the 1st and 2nd column of the array myarray1\n",
      "[ 2.7  0.  10.6]\n",
      "[-2.   3.4  0. ]\n"
     ]
    }
   ],
   "source": [
    "import numpy as np\n",
    "x= np.array([[2.7,-2,-19], [0,3.4,99.9],[10.6,0, 13]])\n",
    "print(\" myarray1 elements \")\n",
    "print(x)\n",
    "print(\"Display all elements in the 1st and 2nd column of the array myarray1\")\n",
    "print(x[:,0])\n",
    "print(x[:,1])"
   ]
  },
  {
   "cell_type": "code",
   "execution_count": 12,
   "id": "5747b328",
   "metadata": {},
   "outputs": [
    {
     "name": "stdout",
     "output_type": "stream",
     "text": [
      " myarray1 elements \n",
      "[[  2.7  -2.  -19. ]\n",
      " [  0.    3.4  99.9]\n",
      " [ 10.6   0.   13. ]]\n",
      "Display the elements in the 1st column of the 2nd and 3rd row of the array myarray1\n",
      "[ 0.  10.6]\n"
     ]
    }
   ],
   "source": [
    "import numpy as np\n",
    "x= np.array([[2.7,-2,-19], [0,3.4,99.9],[10.6,0, 13]])\n",
    "print(\" myarray1 elements \")\n",
    "print(x)\n",
    "print(\"Display the elements in the 1st column of the 2nd and 3rd row of the array myarray1\")\n",
    "print(x[-2:3,0])"
   ]
  },
  {
   "cell_type": "code",
   "execution_count": 13,
   "id": "80fbaac2",
   "metadata": {},
   "outputs": [
    {
     "name": "stdout",
     "output_type": "stream",
     "text": [
      " vowels array elements \n",
      "['a' 'e' 'i' 'o' 'u']\n",
      "Reversed array of vowels\n",
      "['u' 'o' 'i' 'e' 'a']\n"
     ]
    }
   ],
   "source": [
    "import numpy as np\n",
    "vowels = np.array([\"a\",\"e\",\"i\",\"o\",\"u\"])\n",
    "print(\" vowels array elements \")\n",
    "print(vowels)\n",
    "print(\"Reversed array of vowels\")\n",
    "print(vowels[::-1])"
   ]
  }
 ],
 "metadata": {
  "kernelspec": {
   "display_name": "Python 3 (ipykernel)",
   "language": "python",
   "name": "python3"
  },
  "language_info": {
   "codemirror_mode": {
    "name": "ipython",
    "version": 3
   },
   "file_extension": ".py",
   "mimetype": "text/x-python",
   "name": "python",
   "nbconvert_exporter": "python",
   "pygments_lexer": "ipython3",
   "version": "3.9.13"
  }
 },
 "nbformat": 4,
 "nbformat_minor": 5
}
